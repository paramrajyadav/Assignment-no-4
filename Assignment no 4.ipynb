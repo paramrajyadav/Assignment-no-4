{
 "cells": [
  {
   "cell_type": "code",
   "execution_count": 1,
   "id": "c011251f",
   "metadata": {},
   "outputs": [],
   "source": [
    "# 1. What exactly is []?\n",
    "# Ans This is an empty list ."
   ]
  },
  {
   "cell_type": "code",
   "execution_count": 11,
   "id": "a32c07a4",
   "metadata": {},
   "outputs": [
    {
     "data": {
      "text/plain": [
       "[2, 4, 'Hello', 8, 10]"
      ]
     },
     "execution_count": 11,
     "metadata": {},
     "output_type": "execute_result"
    }
   ],
   "source": [
    "# 2. In a list of values stored in a variable called spam, how would you assign the value & hello& as the\n",
    "# third value? (Assume [2, 4, 6, 8, 10] are in spam.)\n",
    "#Ans \n",
    "spam=[2,4,6,8,10]\n",
    "spam[2]=\"Hello\"\n",
    "spam"
   ]
  },
  {
   "cell_type": "code",
   "execution_count": 16,
   "id": "e18123c0",
   "metadata": {},
   "outputs": [],
   "source": [
    "spam=['a','b','c','d']"
   ]
  },
  {
   "cell_type": "code",
   "execution_count": null,
   "id": "8dfca6e9",
   "metadata": {},
   "outputs": [],
   "source": [
    "# 3. What is the value of spam[int(int('3'* 2) / 11)]?\n",
    "# Ans d"
   ]
  },
  {
   "cell_type": "code",
   "execution_count": 15,
   "id": "e93e6b09",
   "metadata": {},
   "outputs": [
    {
     "data": {
      "text/plain": [
       "'d'"
      ]
     },
     "execution_count": 15,
     "metadata": {},
     "output_type": "execute_result"
    }
   ],
   "source": [
    "# 4 4. What is the value of spam[-1]?\n",
    "# Ans d\n",
    "spam[-1]"
   ]
  },
  {
   "cell_type": "code",
   "execution_count": 17,
   "id": "5b57d1b5",
   "metadata": {},
   "outputs": [
    {
     "data": {
      "text/plain": [
       "['a', 'b']"
      ]
     },
     "execution_count": 17,
     "metadata": {},
     "output_type": "execute_result"
    }
   ],
   "source": [
    "# 5. What is the value of spam[:2]?\n",
    "# Ans [\"a\",\"b\"]\n",
    "spam[:2]"
   ]
  },
  {
   "cell_type": "code",
   "execution_count": 19,
   "id": "5af88d16",
   "metadata": {},
   "outputs": [],
   "source": [
    "#Let pretend bacon has the list [3.14, 'cat',11, 'cat', True] for the next three questions.\n",
    "bacon=[3.14, 'cat',11, 'cat', True]"
   ]
  },
  {
   "cell_type": "code",
   "execution_count": 21,
   "id": "03cb329c",
   "metadata": {},
   "outputs": [
    {
     "data": {
      "text/plain": [
       "1"
      ]
     },
     "execution_count": 21,
     "metadata": {},
     "output_type": "execute_result"
    }
   ],
   "source": [
    "# 6. What is the value of bacon.index(cat)?\n",
    "# Ans 1  as it will provide only the first instance of the cat\n",
    "bacon.index('cat')"
   ]
  },
  {
   "cell_type": "code",
   "execution_count": 22,
   "id": "d1bb8766",
   "metadata": {},
   "outputs": [
    {
     "data": {
      "text/plain": [
       "[3.14, 'cat', 11, 'cat', True, 99]"
      ]
     },
     "execution_count": 22,
     "metadata": {},
     "output_type": "execute_result"
    }
   ],
   "source": [
    "# 7. How does bacon.append(99) change the look of the list value in bacon?\n",
    "# Ans It will add 99 at the end of the bacon list, the length of list will be increased by 1\n",
    "bacon.append(99)\n",
    "bacon"
   ]
  },
  {
   "cell_type": "code",
   "execution_count": 23,
   "id": "99a4ba2c",
   "metadata": {},
   "outputs": [],
   "source": [
    "# 8. How does bacon.remove(&#39;cat&#39;) change the look of the list in bacon?\n",
    "# Ans It will remove the first instance of cat from the list and the length of list will be shorten by 1\n",
    "bacon.remove(\"cat\")"
   ]
  },
  {
   "cell_type": "code",
   "execution_count": 26,
   "id": "6b399547",
   "metadata": {},
   "outputs": [
    {
     "name": "stdout",
     "output_type": "stream",
     "text": [
      "[1, 2, 3, 4, 5, 6]\n",
      "[1, 2, 3, 1, 2, 3, 1, 2, 3]\n"
     ]
    }
   ],
   "source": [
    "# 9. What are the list concatenation and list replication operators?\n",
    "# Ans The list conactenation is used to concatenate two list. In this method , fisrt we have all the elements of first list\n",
    "# and after that we have all the elements of the the second list We use \"+ \" for concatenation\n",
    "list4 = [1, 2, 3]\n",
    "list5 = [4, 5, 6]\n",
    "list6 = list4 + list5\n",
    "print(list6)  # [1, 2, 3, 4, 5, 6]\n",
    "# In list replication method a list replicated specified time, we use \" * \" for the replication\n",
    "\n",
    "list1 = [1, 2, 3]\n",
    "list2 = list1 * 3\n",
    "print(list2)  # [1, 2, 3, 1, 2, 3, 1, 2, 3]\n",
    "\n"
   ]
  },
  {
   "cell_type": "code",
   "execution_count": 27,
   "id": "95973d8f",
   "metadata": {},
   "outputs": [
    {
     "name": "stdout",
     "output_type": "stream",
     "text": [
      "[1, 2, 3, 4]\n",
      "[1, 4, 2, 3]\n"
     ]
    }
   ],
   "source": [
    "# 10. What is difference between the list methods append() and insert()?\n",
    "\n",
    "# Ans List append method is used to insert element at the end of the list whereas insert method is used to insert element at \n",
    "# any specifeid position in the list\n",
    "\n",
    "my_list = [1, 2, 3]\n",
    "my_list.append(4)\n",
    "print(my_list)  # [1, 2, 3, 4]\n",
    "\n",
    "\n",
    "my_list = [1, 2, 3]\n",
    "my_list.insert(1, 4)\n",
    "print(my_list)  # [1, 4, 2, 3]\n"
   ]
  },
  {
   "cell_type": "code",
   "execution_count": 29,
   "id": "efc18208",
   "metadata": {},
   "outputs": [
    {
     "name": "stdout",
     "output_type": "stream",
     "text": [
      "[1, 2, 4, 3]\n",
      "[1, 2, 4, 3]\n"
     ]
    }
   ],
   "source": [
    "# 11. What are the two methods for removing items from a list?\n",
    "# Ans remove method is used to remove the first element form the list\n",
    "# other method pop() is used to remove element from a specific position from the list\n",
    "\n",
    "my_list = [1, 2, 3, 4, 3]\n",
    "my_list.remove(3)\n",
    "print(my_list)  # [1, 2, 4, 3]\n",
    "\n",
    "my_list = [1, 2, 3, 4, 3]\n",
    "x = my_list.pop(2)\n",
    "print(my_list)  # [1, 2, 4, 3]\n",
    "\n"
   ]
  },
  {
   "cell_type": "code",
   "execution_count": 30,
   "id": "2cc9282d",
   "metadata": {},
   "outputs": [],
   "source": [
    "# 12. Describe how list values and string values are identical.\n",
    "\n",
    "# Ans Both lists and strings are ordered collections of items.\n",
    "#     Both lists and strings can store items of any type, including other lists or strings.\n",
    "#     Both lists and strings can be accessed and modified using indexing and slicing.\n",
    "#     Both lists and strings have many built-in methods for manipulating the data they contain"
   ]
  },
  {
   "cell_type": "code",
   "execution_count": 31,
   "id": "eb3dac03",
   "metadata": {},
   "outputs": [],
   "source": [
    "# 13. What is the difference between tuples and lists?\n",
    "# Ans list and tuple have different syntax [ ] and ( ) respectively\n",
    "#     list is mutable whereas tuples are not"
   ]
  },
  {
   "cell_type": "code",
   "execution_count": 38,
   "id": "b70c1ab1",
   "metadata": {},
   "outputs": [
    {
     "data": {
      "text/plain": [
       "(42,)"
      ]
     },
     "execution_count": 38,
     "metadata": {},
     "output_type": "execute_result"
    }
   ],
   "source": [
    "# 14. How do you type a tuple value that only contains the integer 42?\n",
    "# Ans  tuple=(42,) and my_tuple = tuple([42])\n",
    "\n",
    "tuple"
   ]
  },
  {
   "cell_type": "code",
   "execution_count": 48,
   "id": "8f0355ba",
   "metadata": {},
   "outputs": [
    {
     "name": "stdout",
     "output_type": "stream",
     "text": [
      "[1, 2, 3]\n",
      "(1, 2, 3)\n"
     ]
    }
   ],
   "source": [
    "#  15. How do you get a list value's tuple form? How do you get a tuple value's list form?\n",
    "# Ans  We can use list finction to convert tuple to list\n",
    "\n",
    "my_tuple = (1, 2, 3)\n",
    "my_list = list(my_tuple)\n",
    "print(my_list)  # [1, 2, 3]\n",
    "\n",
    "\n",
    "# In order to convert list to tuple  we can use a function as mentioned below\n",
    "def convert(list):\n",
    "    return (*list, )\n",
    "my_list = [1, 2, 3]\n",
    "print(convert(my_list))\n",
    "\n"
   ]
  },
  {
   "cell_type": "code",
   "execution_count": 49,
   "id": "acd823f2",
   "metadata": {},
   "outputs": [],
   "source": [
    "# 16. Variables that contain; list values are not necessarily lists themselves. Instead, what do they contain?\n",
    "# Ans variables that contain list values does not contain the list itself, but instead they contain a reference to the list.\n",
    "\n",
    "# When you assign a list value to a variable, Python creates an object in memory that represents the list,\n",
    "# and then it creates a variable that holds a reference to that object. The variable does not actually contain the list, \n",
    "# but it contains a reference to the memory location where the list is stored.\n",
    "\n",
    "# This means that when you make changes to the list through the variable, those changes are made to the original  \n",
    "# list object in memory.\n"
   ]
  },
  {
   "cell_type": "code",
   "execution_count": null,
   "id": "a37050cc",
   "metadata": {},
   "outputs": [],
   "source": [
    "# 17. How do you distinguish between copy.copy() and copy.deepcopy()?\n",
    "\n",
    "# Ans copy.copy() creates a shallow copy of an object. A shallow copy creates a new object with a new reference, \n",
    "#     but the contents of the object are still references to the same objects as the original.\n",
    "\n",
    "# copy.deepcopy() creates a deep copy of an object. A deep copy creates a new object with a new reference, and also creates \n",
    "# new copies of all the objects contained within the original object."
   ]
  }
 ],
 "metadata": {
  "kernelspec": {
   "display_name": "Python 3 (ipykernel)",
   "language": "python",
   "name": "python3"
  },
  "language_info": {
   "codemirror_mode": {
    "name": "ipython",
    "version": 3
   },
   "file_extension": ".py",
   "mimetype": "text/x-python",
   "name": "python",
   "nbconvert_exporter": "python",
   "pygments_lexer": "ipython3",
   "version": "3.9.13"
  }
 },
 "nbformat": 4,
 "nbformat_minor": 5
}
